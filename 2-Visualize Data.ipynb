{
 "cells": [
  {
   "cell_type": "code",
   "execution_count": 11,
   "metadata": {},
   "outputs": [],
   "source": [
    "import pandas as pd\n",
    "#import arcpy\n",
    "\n",
    "from arcgis.gis import *\n",
    "gis = GIS()"
   ]
  },
  {
   "cell_type": "code",
   "execution_count": 12,
   "metadata": {},
   "outputs": [
    {
     "name": "stdout",
     "output_type": "stream",
     "text": [
      "e:\\GitHub\\TDM-Trucks-Streetlight\\data\\Subarea_2021_09_22.shp\n"
     ]
    }
   ],
   "source": [
    "#directories\n",
    "working_directory = os.getcwd()\n",
    "data_folder         = os.path.join(working_directory, \"data\"        )\n",
    "intermediate_folder = os.path.join(working_directory, \"intermediate\")\n",
    "results_folder      = os.path.join(working_directory, \"results\"     )\n",
    "\n",
    "subareas_filename = os.path.join(data_folder, r\"Subarea_2021_09_22.shp\")\n",
    "print(subareas_filename)"
   ]
  },
  {
   "cell_type": "code",
   "execution_count": 13,
   "metadata": {},
   "outputs": [
    {
     "data": {
      "text/html": [
       "<div>\n",
       "<style scoped>\n",
       "    .dataframe tbody tr th:only-of-type {\n",
       "        vertical-align: middle;\n",
       "    }\n",
       "\n",
       "    .dataframe tbody tr th {\n",
       "        vertical-align: top;\n",
       "    }\n",
       "\n",
       "    .dataframe thead th {\n",
       "        text-align: right;\n",
       "    }\n",
       "</style>\n",
       "<table border=\"1\" class=\"dataframe\">\n",
       "  <thead>\n",
       "    <tr style=\"text-align: right;\">\n",
       "      <th></th>\n",
       "      <th>index</th>\n",
       "      <th>SUBAREAID</th>\n",
       "      <th>SHAPE</th>\n",
       "      <th>OBJECTID</th>\n",
       "    </tr>\n",
       "  </thead>\n",
       "  <tbody>\n",
       "    <tr>\n",
       "      <th>0</th>\n",
       "      <td>0</td>\n",
       "      <td>0</td>\n",
       "      <td>{\"rings\": [[[[455558.00005950936, 4533876.0000...</td>\n",
       "      <td>0</td>\n",
       "    </tr>\n",
       "    <tr>\n",
       "      <th>1</th>\n",
       "      <td>1</td>\n",
       "      <td>1</td>\n",
       "      <td>{\"rings\": [[[410028.49999148864, 4403451.00002...</td>\n",
       "      <td>1</td>\n",
       "    </tr>\n",
       "    <tr>\n",
       "      <th>2</th>\n",
       "      <td>2</td>\n",
       "      <td>2</td>\n",
       "      <td>{\"rings\": [[[435003.0000956943, 4580925.999780...</td>\n",
       "      <td>2</td>\n",
       "    </tr>\n",
       "    <tr>\n",
       "      <th>3</th>\n",
       "      <td>3</td>\n",
       "      <td>3</td>\n",
       "      <td>{\"rings\": [[[331310.12055160664, 4111559.56018...</td>\n",
       "      <td>3</td>\n",
       "    </tr>\n",
       "    <tr>\n",
       "      <th>4</th>\n",
       "      <td>4</td>\n",
       "      <td>4</td>\n",
       "      <td>{\"rings\": [[[509221.73000000045, 4432090.92], ...</td>\n",
       "      <td>4</td>\n",
       "    </tr>\n",
       "    <tr>\n",
       "      <th>5</th>\n",
       "      <td>5</td>\n",
       "      <td>5</td>\n",
       "      <td>{\"rings\": [[[319873.91000000015, 4149458.0], [...</td>\n",
       "      <td>5</td>\n",
       "    </tr>\n",
       "  </tbody>\n",
       "</table>\n",
       "</div>"
      ],
      "text/plain": [
       "   index  SUBAREAID                                              SHAPE  \\\n",
       "0      0          0  {\"rings\": [[[[455558.00005950936, 4533876.0000...   \n",
       "1      1          1  {\"rings\": [[[410028.49999148864, 4403451.00002...   \n",
       "2      2          2  {\"rings\": [[[435003.0000956943, 4580925.999780...   \n",
       "3      3          3  {\"rings\": [[[331310.12055160664, 4111559.56018...   \n",
       "4      4          4  {\"rings\": [[[509221.73000000045, 4432090.92], ...   \n",
       "5      5          5  {\"rings\": [[[319873.91000000015, 4149458.0], [...   \n",
       "\n",
       "   OBJECTID  \n",
       "0         0  \n",
       "1         1  \n",
       "2         2  \n",
       "3         3  \n",
       "4         4  \n",
       "5         5  "
      ]
     },
     "execution_count": 13,
     "metadata": {},
     "output_type": "execute_result"
    }
   ],
   "source": [
    "sdf_subareas = pd.DataFrame.spatial.from_featureclass(subareas_filename)\n",
    "sdf_subareas"
   ]
  },
  {
   "cell_type": "code",
   "execution_count": 15,
   "metadata": {},
   "outputs": [
    {
     "data": {
      "text/html": [
       "<div>\n",
       "<style scoped>\n",
       "    .dataframe tbody tr th:only-of-type {\n",
       "        vertical-align: middle;\n",
       "    }\n",
       "\n",
       "    .dataframe tbody tr th {\n",
       "        vertical-align: top;\n",
       "    }\n",
       "\n",
       "    .dataframe thead th {\n",
       "        text-align: right;\n",
       "    }\n",
       "</style>\n",
       "<table border=\"1\" class=\"dataframe\">\n",
       "  <thead>\n",
       "    <tr style=\"text-align: right;\">\n",
       "      <th></th>\n",
       "      <th>index</th>\n",
       "      <th>SUBAREAID</th>\n",
       "      <th>SHAPE</th>\n",
       "      <th>OBJECTID</th>\n",
       "    </tr>\n",
       "  </thead>\n",
       "  <tbody>\n",
       "    <tr>\n",
       "      <th>0</th>\n",
       "      <td>0</td>\n",
       "      <td>0</td>\n",
       "      <td>{\"rings\": [[[[455558.00005950936, 4533876.0000...</td>\n",
       "      <td>0</td>\n",
       "    </tr>\n",
       "    <tr>\n",
       "      <th>1</th>\n",
       "      <td>1</td>\n",
       "      <td>1</td>\n",
       "      <td>{\"rings\": [[[410028.49999148864, 4403451.00002...</td>\n",
       "      <td>1</td>\n",
       "    </tr>\n",
       "    <tr>\n",
       "      <th>2</th>\n",
       "      <td>2</td>\n",
       "      <td>2</td>\n",
       "      <td>{\"rings\": [[[435003.0000956943, 4580925.999780...</td>\n",
       "      <td>2</td>\n",
       "    </tr>\n",
       "    <tr>\n",
       "      <th>3</th>\n",
       "      <td>3</td>\n",
       "      <td>3</td>\n",
       "      <td>{\"rings\": [[[331310.12055160664, 4111559.56018...</td>\n",
       "      <td>3</td>\n",
       "    </tr>\n",
       "    <tr>\n",
       "      <th>4</th>\n",
       "      <td>4</td>\n",
       "      <td>4</td>\n",
       "      <td>{\"rings\": [[[509221.73000000045, 4432090.92], ...</td>\n",
       "      <td>4</td>\n",
       "    </tr>\n",
       "    <tr>\n",
       "      <th>5</th>\n",
       "      <td>5</td>\n",
       "      <td>5</td>\n",
       "      <td>{\"rings\": [[[319873.91000000015, 4149458.0], [...</td>\n",
       "      <td>5</td>\n",
       "    </tr>\n",
       "  </tbody>\n",
       "</table>\n",
       "</div>"
      ],
      "text/plain": [
       "   index  SUBAREAID                                              SHAPE  \\\n",
       "0      0          0  {\"rings\": [[[[455558.00005950936, 4533876.0000...   \n",
       "1      1          1  {\"rings\": [[[410028.49999148864, 4403451.00002...   \n",
       "2      2          2  {\"rings\": [[[435003.0000956943, 4580925.999780...   \n",
       "3      3          3  {\"rings\": [[[331310.12055160664, 4111559.56018...   \n",
       "4      4          4  {\"rings\": [[[509221.73000000045, 4432090.92], ...   \n",
       "5      5          5  {\"rings\": [[[319873.91000000015, 4149458.0], [...   \n",
       "\n",
       "   OBJECTID  \n",
       "0         0  \n",
       "1         1  \n",
       "2         2  \n",
       "3         3  \n",
       "4         4  \n",
       "5         5  "
      ]
     },
     "execution_count": 15,
     "metadata": {},
     "output_type": "execute_result"
    }
   ],
   "source": [
    "sdf_subareas"
   ]
  },
  {
   "cell_type": "code",
   "execution_count": 16,
   "metadata": {},
   "outputs": [
    {
     "data": {
      "application/vnd.jupyter.widget-view+json": {
       "model_id": "f541d2d9ed8d44068ec3db43ec606fd3",
       "version_major": 2,
       "version_minor": 0
      },
      "text/plain": [
       "MapView(layout=Layout(height='600px', width='100%'), legend=True)"
      ]
     },
     "metadata": {},
     "output_type": "display_data"
    },
    {
     "data": {
      "text/html": [
       "<div class=\"map-static-img-preview-eb0c82aa-bea0-4536-9592-d770bb85047c\"><img src=\"\"></img></div>"
      ],
      "text/plain": [
       "<IPython.core.display.HTML object>"
      ]
     },
     "metadata": {},
     "output_type": "display_data"
    },
    {
     "data": {
      "text/html": [
       "<div class=\"map-html-embed-preview-eb0c82aa-bea0-4536-9592-d770bb85047c\"></div>"
      ],
      "text/plain": [
       "<IPython.core.display.HTML object>"
      ]
     },
     "metadata": {},
     "output_type": "display_data"
    }
   ],
   "source": [
    "#create map1 with zoom set to Salt Lake (any city or place name can be used)\n",
    "map_subareas = gis.map('Utah')\n",
    "\n",
    "#add tract sdf\n",
    "#sdf_subareas.spatial.plot(map_widget = map_subareas,\n",
    "#                          renderer_type='u', # specify the unique value renderer using its notation 'u'\n",
    "#                          col='SUBAREAID'  # column to get unique values from\n",
    "#                         )\n",
    "\n",
    "map_subareas.layout.height='600px'\n",
    "map_subareas.legend = True\n",
    "\n",
    "#display the map\n",
    "map_subareas"
   ]
  }
 ],
 "metadata": {
  "interpreter": {
   "hash": "8ec63bef4f6aa46dc785440cb00563f0553240b12f50302ea4a09e0703c03f3f"
  },
  "kernelspec": {
   "display_name": "Python 3",
   "language": "python",
   "name": "python3"
  },
  "language_info": {
   "codemirror_mode": {
    "name": "ipython",
    "version": 3
   },
   "file_extension": ".py",
   "mimetype": "text/x-python",
   "name": "python",
   "nbconvert_exporter": "python",
   "pygments_lexer": "ipython3",
   "version": "3.7.11"
  }
 },
 "nbformat": 4,
 "nbformat_minor": 2
}
